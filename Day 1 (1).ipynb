{
 "cells": [
  {
   "cell_type": "code",
   "execution_count": 1,
   "id": "28ae86a5-1c85-42eb-bc6b-ecbefb8d6996",
   "metadata": {},
   "outputs": [
    {
     "name": "stdout",
     "output_type": "stream",
     "text": [
      "Hello world This is my first python program\n"
     ]
    }
   ],
   "source": [
    "print(\"Hello world This is my first python program\")"
   ]
  },
  {
   "cell_type": "code",
   "execution_count": null,
   "id": "9aa5ef68-11bf-479b-b88f-46c66e0d275b",
   "metadata": {},
   "outputs": [],
   "source": []
  }
 ],
 "metadata": {
  "kernelspec": {
   "display_name": "Python 3 (ipykernel)",
   "language": "python",
   "name": "python3"
  },
  "language_info": {
   "codemirror_mode": {
    "name": "ipython",
    "version": 3
   },
   "file_extension": ".py",
   "mimetype": "text/x-python",
   "name": "python",
   "nbconvert_exporter": "python",
   "pygments_lexer": "ipython3",
   "version": "3.11.7"
  }
 },
 "nbformat": 4,
 "nbformat_minor": 5
}
